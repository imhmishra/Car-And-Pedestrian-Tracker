{
 "cells": [
  {
   "cell_type": "markdown",
   "metadata": {},
   "source": [
    "# Importing the Required Libraries"
   ]
  },
  {
   "cell_type": "code",
   "execution_count": 1,
   "metadata": {},
   "outputs": [],
   "source": [
    "#Importing the required Libraries\n",
    "import cv2\n",
    "import random"
   ]
  },
  {
   "cell_type": "markdown",
   "metadata": {},
   "source": [
    "# Importing the Pre Trained Classifier"
   ]
  },
  {
   "cell_type": "code",
   "execution_count": 2,
   "metadata": {},
   "outputs": [],
   "source": [
    "#Importing our Pre Trained Classifier(Car Classifier)\n",
    "classifier_file = \"C://users//IITK2//Downloads//haarcascade_car.xml\"\n",
    "\n",
    "#Importing our Pre Trained Classifier(Pedestrian Classifier)\n",
    "classifier_file2 = \"C://users//IITK2//Downloads//haarcascade_fullbody.xml\"\n",
    "\n",
    "# Creating the Car Classifier\n",
    "classifier = cv2.CascadeClassifier(classifier_file)\n",
    "\n",
    "# Creating the Pedestrian Classifier\n",
    "classifier2 = cv2.CascadeClassifier(classifier_file2)"
   ]
  },
  {
   "cell_type": "markdown",
   "metadata": {},
   "source": [
    "# Creating a CV2 video object"
   ]
  },
  {
   "cell_type": "code",
   "execution_count": 3,
   "metadata": {},
   "outputs": [],
   "source": [
    "# Creating a CV2 video object\n",
    "video = cv2.VideoCapture(\"C://users//IITK2//Downloads//X.mp4\")"
   ]
  },
  {
   "cell_type": "markdown",
   "metadata": {},
   "source": [
    "# Classifying Various Objects"
   ]
  },
  {
   "cell_type": "code",
   "execution_count": 4,
   "metadata": {},
   "outputs": [],
   "source": [
    "# Capturing frames till the Video ends\n",
    "while True:\n",
    "    \n",
    "    # Continuously reading out the frames from the Video\n",
    "    (read_successful, frame) = video.read()\n",
    "    \n",
    "    # If unable to read the frame then break the loop else convert the frame to grayscaled_frame\n",
    "    if read_successful:\n",
    "        grayscaled_frame = cv2.cvtColor(frame, cv2.COLOR_BGR2GRAY)\n",
    "    else:\n",
    "        break\n",
    "        \n",
    "        \n",
    "    # Detecting the multiple cars in our frame using MultiScale method \n",
    "    array = classifier.detectMultiScale(grayscaled_frame)\n",
    "    \n",
    "    \n",
    "    # Detecting the multiple pedestrians in our frame using MultiScale method \n",
    "    array2 = classifier2.detectMultiScale(grayscaled_frame)\n",
    "    \n",
    "    \n",
    "    # Unpacking the coordinates of cars\n",
    "    for (x,y,w,h) in array:\n",
    "        \n",
    "        # Creating a Rectangle Object to identify our Cars\n",
    "        cv2.rectangle(frame, (x, y), (x+w, y+h), (0, 0, 255), 4)\n",
    "    \n",
    "    # Unpacking the coordinates of pedestrians\n",
    "    for (x,y,w,h) in array2:\n",
    "        \n",
    "        # Creating a Rectangle Object to identify our Pedestrians\n",
    "        cv2.rectangle(frame, (x, y), (x+w, y+h), (0, 255, 255), 4)\n",
    "        \n",
    "    # Displaying the rectangle in the current frame \n",
    "    cv2.imshow('Cars & Pedestrian Tracker', frame)\n",
    "\n",
    "    #Wait before closing the image\n",
    "    key = cv2.waitKey(1)\n",
    "    \n",
    "    #If Key Q is pressed then break out from the loop\n",
    "    if key == 81 or key == 113:\n",
    "        break\n",
    " \n",
    "#When everything is done then release the Video\n",
    "video.release()\n"
   ]
  }
 ],
 "metadata": {
  "kernelspec": {
   "display_name": "Python 3",
   "language": "python",
   "name": "python3"
  },
  "language_info": {
   "codemirror_mode": {
    "name": "ipython",
    "version": 3
   },
   "file_extension": ".py",
   "mimetype": "text/x-python",
   "name": "python",
   "nbconvert_exporter": "python",
   "pygments_lexer": "ipython3",
   "version": "3.7.6"
  }
 },
 "nbformat": 4,
 "nbformat_minor": 4
}
